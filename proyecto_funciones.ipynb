{
 "cells": [
  {
   "cell_type": "code",
   "execution_count": 2,
   "metadata": {},
   "outputs": [],
   "source": [
    "import pandas as pd\n",
    "import numpy as np\n",
    "import json\n",
    "import matplotlib.pyplot as plt\n",
    "import seaborn as sns \n",
    "import ipywidgets as widgets\n",
    "import ast\n",
    "from sklearn.model_selection import train_test_split\n",
    "from sklearn.decomposition import PCA\n",
    "from sklearn.metrics.pairwise import cosine_similarity"
   ]
  },
  {
   "cell_type": "markdown",
   "metadata": {},
   "source": [
    "CSV FUNCION 1\n",
    "\n",
    "CSV CON COLUMNAS SELECCIONADAS DEL ARCHIVO REVIEWS\n",
    "df_original"
   ]
  },
  {
   "cell_type": "code",
   "execution_count": 7,
   "metadata": {},
   "outputs": [],
   "source": [
    "#  ruta completa del archivo CSV\n",
    "ruta_csv = r\"C:\\Users\\rossa\\Desktop\\ProyectoIndividualML\\ProyectoIndividualML\\df_original.csv\"  \n",
    "\n",
    "# archivo CSV en un DataFrame\n",
    "df_original = pd.read_csv(ruta_csv)"
   ]
  },
  {
   "cell_type": "code",
   "execution_count": 8,
   "metadata": {},
   "outputs": [
    {
     "data": {
      "text/html": [
       "<div>\n",
       "<style scoped>\n",
       "    .dataframe tbody tr th:only-of-type {\n",
       "        vertical-align: middle;\n",
       "    }\n",
       "\n",
       "    .dataframe tbody tr th {\n",
       "        vertical-align: top;\n",
       "    }\n",
       "\n",
       "    .dataframe thead th {\n",
       "        text-align: right;\n",
       "    }\n",
       "</style>\n",
       "<table border=\"1\" class=\"dataframe\">\n",
       "  <thead>\n",
       "    <tr style=\"text-align: right;\">\n",
       "      <th></th>\n",
       "      <th>user_id</th>\n",
       "      <th>recommend</th>\n",
       "      <th>fecha</th>\n",
       "    </tr>\n",
       "  </thead>\n",
       "  <tbody>\n",
       "    <tr>\n",
       "      <th>0</th>\n",
       "      <td>76561198032746726</td>\n",
       "      <td>0</td>\n",
       "      <td>2013-11-27</td>\n",
       "    </tr>\n",
       "    <tr>\n",
       "      <th>1</th>\n",
       "      <td>76561198085933402</td>\n",
       "      <td>1</td>\n",
       "      <td>2015-02-14</td>\n",
       "    </tr>\n",
       "    <tr>\n",
       "      <th>2</th>\n",
       "      <td>togekiss906</td>\n",
       "      <td>0</td>\n",
       "      <td>2015-10-01</td>\n",
       "    </tr>\n",
       "    <tr>\n",
       "      <th>3</th>\n",
       "      <td>WarEagle247</td>\n",
       "      <td>1</td>\n",
       "      <td>2014-10-04</td>\n",
       "    </tr>\n",
       "    <tr>\n",
       "      <th>4</th>\n",
       "      <td>76561198094455101</td>\n",
       "      <td>1</td>\n",
       "      <td>2015-11-01</td>\n",
       "    </tr>\n",
       "    <tr>\n",
       "      <th>...</th>\n",
       "      <td>...</td>\n",
       "      <td>...</td>\n",
       "      <td>...</td>\n",
       "    </tr>\n",
       "    <tr>\n",
       "      <th>13736</th>\n",
       "      <td>meglonoth</td>\n",
       "      <td>1</td>\n",
       "      <td>2013-09-03</td>\n",
       "    </tr>\n",
       "    <tr>\n",
       "      <th>13737</th>\n",
       "      <td>exdddddddddd</td>\n",
       "      <td>1</td>\n",
       "      <td>2014-03-12</td>\n",
       "    </tr>\n",
       "    <tr>\n",
       "      <th>13738</th>\n",
       "      <td>reddayesocks</td>\n",
       "      <td>1</td>\n",
       "      <td>2015-12-30</td>\n",
       "    </tr>\n",
       "    <tr>\n",
       "      <th>13739</th>\n",
       "      <td>76561198069233575</td>\n",
       "      <td>1</td>\n",
       "      <td>2015-06-06</td>\n",
       "    </tr>\n",
       "    <tr>\n",
       "      <th>13740</th>\n",
       "      <td>76561198079107907</td>\n",
       "      <td>1</td>\n",
       "      <td>2015-04-08</td>\n",
       "    </tr>\n",
       "  </tbody>\n",
       "</table>\n",
       "<p>13741 rows × 3 columns</p>\n",
       "</div>"
      ],
      "text/plain": [
       "                 user_id  recommend       fecha\n",
       "0      76561198032746726          0  2013-11-27\n",
       "1      76561198085933402          1  2015-02-14\n",
       "2            togekiss906          0  2015-10-01\n",
       "3            WarEagle247          1  2014-10-04\n",
       "4      76561198094455101          1  2015-11-01\n",
       "...                  ...        ...         ...\n",
       "13736          meglonoth          1  2013-09-03\n",
       "13737       exdddddddddd          1  2014-03-12\n",
       "13738       reddayesocks          1  2015-12-30\n",
       "13739  76561198069233575          1  2015-06-06\n",
       "13740  76561198079107907          1  2015-04-08\n",
       "\n",
       "[13741 rows x 3 columns]"
      ]
     },
     "execution_count": 8,
     "metadata": {},
     "output_type": "execute_result"
    }
   ],
   "source": [
    "df_original"
   ]
  },
  {
   "cell_type": "code",
   "execution_count": 9,
   "metadata": {},
   "outputs": [
    {
     "name": "stdout",
     "output_type": "stream",
     "text": [
      "Empty DataFrame\n",
      "Columns: [user_id, recommend, fecha]\n",
      "Index: []\n"
     ]
    }
   ],
   "source": [
    "# VERIFICAR ERRORES\n",
    "df_original = pd.read_csv(r\"C:\\Users\\rossa\\Desktop\\ProyectoIndividualML\\ProyectoIndividualML\\df_original.csv\")\n",
    "\n",
    "# Utiliza una expresión regular para buscar filas con formato incorrecto en la columna 'fecha'\n",
    "filas_con_errores = df_original[~df_original['fecha'].str.match(r'\\d{4}-\\d{2}-\\d{2}')]\n",
    "\n",
    "# Muestra las filas con errores en la columna 'fecha'\n",
    "print(filas_con_errores)"
   ]
  },
  {
   "cell_type": "markdown",
   "metadata": {},
   "source": [
    "CSV COLUMNAS SELECCIONADAS PARA LA FUNCIÓN 1 DEL ARCHIVO GAMES\n",
    "\n",
    "df_new_game_copy"
   ]
  },
  {
   "cell_type": "code",
   "execution_count": 31,
   "metadata": {},
   "outputs": [],
   "source": [
    "# Especifica la ruta completa del archivo CSV\n",
    "ruta_csv = r\"C:\\Users\\rossa\\Desktop\\ProyectoIndividualML\\ProyectoIndividualML\\df_new_game_copy.csv\"\n",
    "\n",
    "# Carga el archivo CSV en un DataFrame\n",
    "df_new_game_copy = pd.read_csv(ruta_csv)"
   ]
  },
  {
   "cell_type": "code",
   "execution_count": 32,
   "metadata": {},
   "outputs": [
    {
     "data": {
      "text/html": [
       "<div>\n",
       "<style scoped>\n",
       "    .dataframe tbody tr th:only-of-type {\n",
       "        vertical-align: middle;\n",
       "    }\n",
       "\n",
       "    .dataframe tbody tr th {\n",
       "        vertical-align: top;\n",
       "    }\n",
       "\n",
       "    .dataframe thead th {\n",
       "        text-align: right;\n",
       "    }\n",
       "</style>\n",
       "<table border=\"1\" class=\"dataframe\">\n",
       "  <thead>\n",
       "    <tr style=\"text-align: right;\">\n",
       "      <th></th>\n",
       "      <th>price</th>\n",
       "      <th>items_count</th>\n",
       "      <th>user_id</th>\n",
       "    </tr>\n",
       "  </thead>\n",
       "  <tbody>\n",
       "    <tr>\n",
       "      <th>0</th>\n",
       "      <td>0.00</td>\n",
       "      <td>277.0</td>\n",
       "      <td>76561197970982479</td>\n",
       "    </tr>\n",
       "    <tr>\n",
       "      <th>1</th>\n",
       "      <td>0.00</td>\n",
       "      <td>888.0</td>\n",
       "      <td>js41637</td>\n",
       "    </tr>\n",
       "    <tr>\n",
       "      <th>2</th>\n",
       "      <td>0.00</td>\n",
       "      <td>137.0</td>\n",
       "      <td>evcentric</td>\n",
       "    </tr>\n",
       "    <tr>\n",
       "      <th>3</th>\n",
       "      <td>0.00</td>\n",
       "      <td>328.0</td>\n",
       "      <td>Riot-Punch</td>\n",
       "    </tr>\n",
       "    <tr>\n",
       "      <th>4</th>\n",
       "      <td>0.00</td>\n",
       "      <td>541.0</td>\n",
       "      <td>doctr</td>\n",
       "    </tr>\n",
       "    <tr>\n",
       "      <th>...</th>\n",
       "      <td>...</td>\n",
       "      <td>...</td>\n",
       "      <td>...</td>\n",
       "    </tr>\n",
       "    <tr>\n",
       "      <th>87622</th>\n",
       "      <td>0.00</td>\n",
       "      <td>177.0</td>\n",
       "      <td>76561198326700687</td>\n",
       "    </tr>\n",
       "    <tr>\n",
       "      <th>87623</th>\n",
       "      <td>0.00</td>\n",
       "      <td>0.0</td>\n",
       "      <td>XxLaughingJackClown77xX</td>\n",
       "    </tr>\n",
       "    <tr>\n",
       "      <th>87624</th>\n",
       "      <td>0.00</td>\n",
       "      <td>7.0</td>\n",
       "      <td>76561198329548331</td>\n",
       "    </tr>\n",
       "    <tr>\n",
       "      <th>87625</th>\n",
       "      <td>0.00</td>\n",
       "      <td>0.0</td>\n",
       "      <td>edward_tremethick</td>\n",
       "    </tr>\n",
       "    <tr>\n",
       "      <th>87626</th>\n",
       "      <td>4.99</td>\n",
       "      <td>0.0</td>\n",
       "      <td>Sin dato</td>\n",
       "    </tr>\n",
       "  </tbody>\n",
       "</table>\n",
       "<p>87627 rows × 3 columns</p>\n",
       "</div>"
      ],
      "text/plain": [
       "       price  items_count                  user_id\n",
       "0       0.00        277.0        76561197970982479\n",
       "1       0.00        888.0                  js41637\n",
       "2       0.00        137.0                evcentric\n",
       "3       0.00        328.0               Riot-Punch\n",
       "4       0.00        541.0                    doctr\n",
       "...      ...          ...                      ...\n",
       "87622   0.00        177.0        76561198326700687\n",
       "87623   0.00          0.0  XxLaughingJackClown77xX\n",
       "87624   0.00          7.0        76561198329548331\n",
       "87625   0.00          0.0        edward_tremethick\n",
       "87626   4.99          0.0                 Sin dato\n",
       "\n",
       "[87627 rows x 3 columns]"
      ]
     },
     "execution_count": 32,
     "metadata": {},
     "output_type": "execute_result"
    }
   ],
   "source": [
    "df_new_game_copy"
   ]
  },
  {
   "cell_type": "markdown",
   "metadata": {},
   "source": [
    "FUNCION 1\n",
    "\n",
    "def userdata( User_id : str ): Debe devolver cantidad de dinero gastado por el usuario, el porcentaje de recomendación en base a reviews.recommend y cantidad de items.  , df_new_game_copy, df_original\n"
   ]
  },
  {
   "cell_type": "code",
   "execution_count": 33,
   "metadata": {},
   "outputs": [],
   "source": [
    "def userdata(User_id: str):\n",
    "    \n",
    "    # Filtrar los datos para el usuario específico\n",
    "    datos_usuario = df_original[df_original['user_id'] == User_id]\n",
    "    \n",
    "    # Calcular la cantidad de dinero gastado por el usuario\n",
    "    total_gastado = df_new_game_copy[df_new_game_copy['user_id'] == User_id]['price'].sum()\n",
    "    \n",
    "    # Calcular el porcentaje de recomendación en base a la columna correcta (ajusta esto)\n",
    "    # Suponiendo que \"opiniones.recomendacion\" es la columna relevante en df_original\n",
    "    porcentaje_recomendacion = (datos_usuario['recommend'].sum() / len(datos_usuario)) * 100\n",
    "    \n",
    "    # Calcular la cantidad de ítems\n",
    "    cantidad_items = df_new_game_copy[df_new_game_copy['user_id'] == User_id]['items_count'].sum()\n",
    "    \n",
    "    # Devolver los resultados como un diccionario\n",
    "    resultados = {\n",
    "        'id_usuario': User_id,\n",
    "        'total_gastado': total_gastado,\n",
    "        'porcentaje_recomendacion': porcentaje_recomendacion,\n",
    "        'cantidad_items': cantidad_items\n",
    "    }\n",
    "    \n",
    "    return resultados\n"
   ]
  },
  {
   "cell_type": "code",
   "execution_count": 34,
   "metadata": {},
   "outputs": [
    {
     "name": "stdout",
     "output_type": "stream",
     "text": [
      "{'id_usuario': '76561197970982479', 'total_gastado': 0.0, 'porcentaje_recomendacion': 100.0, 'cantidad_items': 277.0}\n"
     ]
    }
   ],
   "source": [
    "# LLAMAR A LA FUNCION USERDATA\n",
    "usuario_id = '76561197970982479'\n",
    "\n",
    "# Llama a la función userdata con el ID del usuario como argumento\n",
    "resultados_usuario = userdata(usuario_id)\n",
    "\n",
    "# Imprime los resultados\n",
    "print(resultados_usuario)"
   ]
  },
  {
   "cell_type": "markdown",
   "metadata": {},
   "source": [
    "FUNCIÓN 2: def countreviews( YYYY-MM-DD y YYYY-MM-DD : str ): Cantidad de usuarios que realizaron reviews entre las fechas dadas y, el porcentaje de recomendación de los mismos en base a reviews.recommend.\n",
    "\n",
    "CSV : df:original   .  cargado al comienzo (start_date: str, end_date: str, df_original: pd.DataFrame)"
   ]
  },
  {
   "cell_type": "code",
   "execution_count": 14,
   "metadata": {},
   "outputs": [],
   "source": [
    "def countreviews(start_date: str, end_date: str,) -> dict:\n",
    "    # Filtrar los datos para las fechas dadas en formato de cadena (str)\n",
    "    filtrado_data = df_original[(df_original['fecha'] >= start_date) & (df_original['fecha'] <= end_date)]\n",
    "\n",
    "    # Contar la cantidad de usuarios únicos que realizaron reseñas en ese período\n",
    "    unique_users = filtrado_data['user_id'].nunique()\n",
    "\n",
    "    # Calcular el porcentaje de recomendación en base a reviews.recommend\n",
    "    # Suponiendo que \"recommend\" es la columna relevante en df_original\n",
    "    # Si hay \"None\" en \"recommend\", se excluyen del cálculo\n",
    "    reviews = filtrado_data['recommend'].dropna().astype(int)\n",
    "    percentage_recommendation = (reviews.sum() / len(reviews)) * 100\n",
    "\n",
    "    # Devolver los resultados como un diccionario\n",
    "    resultados = {\n",
    "        'cantidad_usuarios': unique_users,\n",
    "        'porcentaje_recomendacion': percentage_recommendation\n",
    "    }\n",
    "\n",
    "    return resultados"
   ]
  },
  {
   "cell_type": "code",
   "execution_count": 15,
   "metadata": {},
   "outputs": [
    {
     "name": "stdout",
     "output_type": "stream",
     "text": [
      "{'cantidad_usuarios': 5064, 'porcentaje_recomendacion': 90.48182586644124}\n"
     ]
    }
   ],
   "source": [
    "# Llamar a la función countreviews pasando las fechas y el DataFrame\n",
    "resultados = countreviews(\"2011-11-05\", \"2014-06-23\")\n",
    "\n",
    "# Imprimir los resultados\n",
    "print(resultados)"
   ]
  },
  {
   "cell_type": "markdown",
   "metadata": {},
   "source": [
    "FUNCION 3: \n",
    "Preparación del csv df_fusion3\n"
   ]
  },
  {
   "cell_type": "code",
   "execution_count": 12,
   "metadata": {},
   "outputs": [],
   "source": [
    "# Carga de archivo CSV\n",
    "ruta_csv = r\"C:\\Users\\rossa\\Desktop\\ProyectoIndividualML\\ProyectoIndividualML\\df_fusion3.csv\"\n",
    "\n",
    "# Carga el archivo CSV en un DataFrame\n",
    "df_fusion3 = pd.read_csv(ruta_csv)"
   ]
  },
  {
   "cell_type": "code",
   "execution_count": 13,
   "metadata": {},
   "outputs": [
    {
     "data": {
      "text/html": [
       "<div>\n",
       "<style scoped>\n",
       "    .dataframe tbody tr th:only-of-type {\n",
       "        vertical-align: middle;\n",
       "    }\n",
       "\n",
       "    .dataframe tbody tr th {\n",
       "        vertical-align: top;\n",
       "    }\n",
       "\n",
       "    .dataframe thead th {\n",
       "        text-align: right;\n",
       "    }\n",
       "</style>\n",
       "<table border=\"1\" class=\"dataframe\">\n",
       "  <thead>\n",
       "    <tr style=\"text-align: right;\">\n",
       "      <th></th>\n",
       "      <th>user_id</th>\n",
       "      <th>items_count</th>\n",
       "      <th>steam_id</th>\n",
       "      <th>user_url</th>\n",
       "      <th>item_id</th>\n",
       "      <th>item_name</th>\n",
       "      <th>playtime_forever</th>\n",
       "      <th>playtime_hours</th>\n",
       "      <th>app_name</th>\n",
       "      <th>Action</th>\n",
       "      <th>Adventure</th>\n",
       "      <th>Racing</th>\n",
       "      <th>Simulation</th>\n",
       "      <th>Sports</th>\n",
       "      <th>Strategy</th>\n",
       "    </tr>\n",
       "  </thead>\n",
       "  <tbody>\n",
       "    <tr>\n",
       "      <th>4501</th>\n",
       "      <td>76561198075773650</td>\n",
       "      <td>76</td>\n",
       "      <td>76561198075773650</td>\n",
       "      <td>http://steamcommunity.com/profiles/76561198075...</td>\n",
       "      <td>8000.0</td>\n",
       "      <td>Tomb Raider: Anniversary</td>\n",
       "      <td>0.0</td>\n",
       "      <td>0.0</td>\n",
       "      <td>Rocksmith® 2014 Edition – Remastered – Bachman...</td>\n",
       "      <td>0</td>\n",
       "      <td>0</td>\n",
       "      <td>0</td>\n",
       "      <td>1</td>\n",
       "      <td>0</td>\n",
       "      <td>0</td>\n",
       "    </tr>\n",
       "    <tr>\n",
       "      <th>44552</th>\n",
       "      <td>NameHereGuy</td>\n",
       "      <td>34</td>\n",
       "      <td>76561198028939972</td>\n",
       "      <td>http://steamcommunity.com/id/NameHereGuy</td>\n",
       "      <td>219540.0</td>\n",
       "      <td>Arma 2: Operation Arrowhead Beta (Obsolete)</td>\n",
       "      <td>9.0</td>\n",
       "      <td>0.0</td>\n",
       "      <td>Sleeping Dogs: Screen Legends Pack</td>\n",
       "      <td>1</td>\n",
       "      <td>1</td>\n",
       "      <td>0</td>\n",
       "      <td>0</td>\n",
       "      <td>0</td>\n",
       "      <td>0</td>\n",
       "    </tr>\n",
       "  </tbody>\n",
       "</table>\n",
       "</div>"
      ],
      "text/plain": [
       "                 user_id  items_count           steam_id   \n",
       "4501   76561198075773650           76  76561198075773650  \\\n",
       "44552        NameHereGuy           34  76561198028939972   \n",
       "\n",
       "                                                user_url   item_id   \n",
       "4501   http://steamcommunity.com/profiles/76561198075...    8000.0  \\\n",
       "44552           http://steamcommunity.com/id/NameHereGuy  219540.0   \n",
       "\n",
       "                                         item_name  playtime_forever   \n",
       "4501                      Tomb Raider: Anniversary               0.0  \\\n",
       "44552  Arma 2: Operation Arrowhead Beta (Obsolete)               9.0   \n",
       "\n",
       "       playtime_hours                                           app_name   \n",
       "4501              0.0  Rocksmith® 2014 Edition – Remastered – Bachman...  \\\n",
       "44552             0.0                 Sleeping Dogs: Screen Legends Pack   \n",
       "\n",
       "       Action  Adventure  Racing  Simulation  Sports  Strategy  \n",
       "4501        0          0       0           1       0         0  \n",
       "44552       1          1       0           0       0         0  "
      ]
     },
     "execution_count": 13,
     "metadata": {},
     "output_type": "execute_result"
    }
   ],
   "source": [
    "df_fusion3.sample(2)"
   ]
  },
  {
   "cell_type": "code",
   "execution_count": 14,
   "metadata": {},
   "outputs": [
    {
     "name": "stdout",
     "output_type": "stream",
     "text": [
      "<class 'pandas.core.frame.DataFrame'>\n",
      "RangeIndex: 47932 entries, 0 to 47931\n",
      "Data columns (total 15 columns):\n",
      " #   Column            Non-Null Count  Dtype  \n",
      "---  ------            --------------  -----  \n",
      " 0   user_id           47932 non-null  object \n",
      " 1   items_count       47932 non-null  int64  \n",
      " 2   steam_id          47932 non-null  int64  \n",
      " 3   user_url          47932 non-null  object \n",
      " 4   item_id           47932 non-null  float64\n",
      " 5   item_name         47932 non-null  object \n",
      " 6   playtime_forever  47932 non-null  float64\n",
      " 7   playtime_hours    47932 non-null  float64\n",
      " 8   app_name          47932 non-null  object \n",
      " 9   Action            47932 non-null  int64  \n",
      " 10  Adventure         47932 non-null  int64  \n",
      " 11  Racing            47932 non-null  int64  \n",
      " 12  Simulation        47932 non-null  int64  \n",
      " 13  Sports            47932 non-null  int64  \n",
      " 14  Strategy          47932 non-null  int64  \n",
      "dtypes: float64(3), int64(8), object(4)\n",
      "memory usage: 5.5+ MB\n"
     ]
    }
   ],
   "source": [
    "df_fusion3.info()"
   ]
  },
  {
   "cell_type": "code",
   "execution_count": 20,
   "metadata": {},
   "outputs": [],
   "source": [
    "#Agrupa por género y suma el 'playtime_forever' para cada género\n",
    "genre_ranking = df_fusion3.groupby('app_name')['playtime_forever'].sum().reset_index()\n",
    "\n",
    "#Ordena el ranking de géneros en orden descendente\n",
    "genre_ranking = genre_ranking.sort_values(by='playtime_forever', ascending=False)"
   ]
  },
  {
   "cell_type": "code",
   "execution_count": 21,
   "metadata": {},
   "outputs": [
    {
     "data": {
      "text/html": [
       "<div>\n",
       "<style scoped>\n",
       "    .dataframe tbody tr th:only-of-type {\n",
       "        vertical-align: middle;\n",
       "    }\n",
       "\n",
       "    .dataframe tbody tr th {\n",
       "        vertical-align: top;\n",
       "    }\n",
       "\n",
       "    .dataframe thead th {\n",
       "        text-align: right;\n",
       "    }\n",
       "</style>\n",
       "<table border=\"1\" class=\"dataframe\">\n",
       "  <thead>\n",
       "    <tr style=\"text-align: right;\">\n",
       "      <th></th>\n",
       "      <th>app_name</th>\n",
       "      <th>playtime_forever</th>\n",
       "    </tr>\n",
       "  </thead>\n",
       "  <tbody>\n",
       "    <tr>\n",
       "      <th>4524</th>\n",
       "      <td>Ghost In The Shell: Stand Alone Complex</td>\n",
       "      <td>1038590.0</td>\n",
       "    </tr>\n",
       "    <tr>\n",
       "      <th>8133</th>\n",
       "      <td>Relativity Wars - A Science Space RTS</td>\n",
       "      <td>909985.0</td>\n",
       "    </tr>\n",
       "    <tr>\n",
       "      <th>2527</th>\n",
       "      <td>Darkness and Flame: Born of Fire</td>\n",
       "      <td>722732.0</td>\n",
       "    </tr>\n",
       "    <tr>\n",
       "      <th>7343</th>\n",
       "      <td>Party Hard Tycoon</td>\n",
       "      <td>610744.0</td>\n",
       "    </tr>\n",
       "    <tr>\n",
       "      <th>1175</th>\n",
       "      <td>Blackguards: Untold Legends</td>\n",
       "      <td>582275.0</td>\n",
       "    </tr>\n",
       "    <tr>\n",
       "      <th>...</th>\n",
       "      <td>...</td>\n",
       "      <td>...</td>\n",
       "    </tr>\n",
       "    <tr>\n",
       "      <th>1231</th>\n",
       "      <td>Blood Feed</td>\n",
       "      <td>0.0</td>\n",
       "    </tr>\n",
       "    <tr>\n",
       "      <th>12071</th>\n",
       "      <td>Witchcraft</td>\n",
       "      <td>0.0</td>\n",
       "    </tr>\n",
       "    <tr>\n",
       "      <th>9065</th>\n",
       "      <td>Safety Driving Simulator: Car</td>\n",
       "      <td>0.0</td>\n",
       "    </tr>\n",
       "    <tr>\n",
       "      <th>9068</th>\n",
       "      <td>Sailor Moon R: The Movie</td>\n",
       "      <td>0.0</td>\n",
       "    </tr>\n",
       "    <tr>\n",
       "      <th>11519</th>\n",
       "      <td>Unearthed Inc: The Lost Temple</td>\n",
       "      <td>0.0</td>\n",
       "    </tr>\n",
       "  </tbody>\n",
       "</table>\n",
       "<p>12559 rows × 2 columns</p>\n",
       "</div>"
      ],
      "text/plain": [
       "                                      app_name  playtime_forever\n",
       "4524   Ghost In The Shell: Stand Alone Complex         1038590.0\n",
       "8133     Relativity Wars - A Science Space RTS          909985.0\n",
       "2527          Darkness and Flame: Born of Fire          722732.0\n",
       "7343                         Party Hard Tycoon          610744.0\n",
       "1175               Blackguards: Untold Legends          582275.0\n",
       "...                                        ...               ...\n",
       "1231                                Blood Feed               0.0\n",
       "12071                               Witchcraft               0.0\n",
       "9065             Safety Driving Simulator: Car               0.0\n",
       "9068                  Sailor Moon R: The Movie               0.0\n",
       "11519           Unearthed Inc: The Lost Temple               0.0\n",
       "\n",
       "[12559 rows x 2 columns]"
      ]
     },
     "execution_count": 21,
     "metadata": {},
     "output_type": "execute_result"
    }
   ],
   "source": [
    "genre_ranking"
   ]
  },
  {
   "cell_type": "markdown",
   "metadata": {},
   "source": [
    "FUNCION 3: \n",
    "def genre( género : str ): Devuelve el puesto en el que se encuentra un género sobre el ranking de los mismos analizado bajo la columna PlayTimeForever."
   ]
  },
  {
   "cell_type": "code",
   "execution_count": 15,
   "metadata": {},
   "outputs": [],
   "source": [
    "def genre(genero: str):\n",
    "    try:\n",
    "        # Filtrar el DataFrame para obtener las filas del género especificado\n",
    "        genre_df = df_fusion3[df_fusion3['app_name'] == genero]\n",
    "\n",
    "        # Verificar si el DataFrame filtrado no está vacío\n",
    "        if genre_df.empty:\n",
    "            return \"Género no encontrado en el DataFrame\"\n",
    "\n",
    "        # Calcular la posición del género en el ranking según el tiempo de juego 'playtime_forever'\n",
    "        genre_ranking = genre_df.groupby('app_name')['playtime_forever'].sum().reset_index()\n",
    "        genre_ranking = genre_ranking.sort_values(by='playtime_forever', ascending=False)\n",
    "        position = genre_ranking[genre_ranking['app_name'] == genero].index[0] + 1\n",
    "\n",
    "        # Crear un diccionario con la posición y el nombre del género\n",
    "        result_dict = {\n",
    "            \"Posición\": position,\n",
    "            \"Género\": genero\n",
    "        }\n",
    "        return result_dict\n",
    "    except IndexError:\n",
    "        return \"Género no encontrado en el ranking\"\n"
   ]
  },
  {
   "cell_type": "code",
   "execution_count": 26,
   "metadata": {},
   "outputs": [
    {
     "name": "stdout",
     "output_type": "stream",
     "text": [
      "El género 'Adventure' se encuentra en la posición Género no encontrado en el DataFrame en el ranking.\n"
     ]
    }
   ],
   "source": [
    "# Llamar a la función\n",
    "genero = \"Adventure\"\n",
    "position = genre(genero)\n",
    "print(f\"El género '{genero}' se encuentra en la posición {position} en el ranking.\")"
   ]
  },
  {
   "cell_type": "markdown",
   "metadata": {},
   "source": [
    "FUNCION 4:\n",
    "\n",
    "def userforgenre( género : str ): Top 5 de usuarios con más horas de juego en el género dado, con su URL (del user) y user_id."
   ]
  },
  {
   "cell_type": "code",
   "execution_count": 25,
   "metadata": {},
   "outputs": [],
   "source": [
    "def userforgenre(genero: str):\n",
    "    try:\n",
    "        # Filtra las filas correspondientes al género dado\n",
    "        genero_df = df_fusion3[df_fusion3[genero] == 1]\n",
    "\n",
    "        # Ordena el DataFrame por horas de juego en orden descendente\n",
    "        sorted_genero_df = genero_df.sort_values(by='playtime_hours', ascending=False)\n",
    "\n",
    "        # Selecciona las 5 primeras filas para obtener el top 5 de usuarios\n",
    "        top_5_usuarios = sorted_genero_df[['user_url', 'item_id', 'playtime_hours']].head(5)\n",
    "\n",
    "        # Convertir el DataFrame resultante en una lista de diccionarios\n",
    "        usuarios_lista = top_5_usuarios.to_dict(orient='records')\n",
    "\n",
    "        return usuarios_lista\n",
    "    except KeyError:\n",
    "        return f\"Género '{genero}' no encontrado en el DataFrame\""
   ]
  },
  {
   "cell_type": "code",
   "execution_count": 26,
   "metadata": {},
   "outputs": [
    {
     "name": "stdout",
     "output_type": "stream",
     "text": [
      "[{'user_url': 'http://steamcommunity.com/id/SYSTEMK', 'item_id': 42710.0, 'playtime_hours': 82.14}, {'user_url': 'http://steamcommunity.com/id/JustIcey', 'item_id': 4000.0, 'playtime_hours': 74.08}, {'user_url': 'http://steamcommunity.com/id/rinco69', 'item_id': 293260.0, 'playtime_hours': 72.23}, {'user_url': 'http://steamcommunity.com/profiles/76561198035591272', 'item_id': 220200.0, 'playtime_hours': 64.13}, {'user_url': 'http://steamcommunity.com/profiles/76561197961718947', 'item_id': 8930.0, 'playtime_hours': 63.05}]\n"
     ]
    }
   ],
   "source": [
    "# Llamado a la función \n",
    "resultado = userforgenre(\"Action\")\n",
    "print(resultado)\n"
   ]
  },
  {
   "cell_type": "markdown",
   "metadata": {},
   "source": [
    "FUNCION 5 \n",
    "\n",
    "def developer( desarrollador : str ): Cantidad de items y porcentaje de contenido Free por año según empresa desarrolladora. Ejemplo de salida:\n",
    "Activision\t\n",
    "Año\tContenido Free\n",
    "2023\t27%\n",
    "2022\t25%\n",
    "xxxx\txx%"
   ]
  },
  {
   "cell_type": "code",
   "execution_count": 2,
   "metadata": {},
   "outputs": [],
   "source": [
    "# Especifica la ruta completa del archivo CSV\n",
    "\n",
    "ruta_csv = r\"C:\\Users\\rossa\\Desktop\\ProyectoIndividualML\\ProyectoIndividualML\\df_funcion5.csv\"\n",
    "\n",
    "# Carga el archivo CSV en un DataFrame\n",
    "df_funcion5 = pd.read_csv(ruta_csv)\n",
    "#df_funcion5y6 = pd.read_csv((ruta_csv), dtype={'fecha': str})"
   ]
  },
  {
   "cell_type": "code",
   "execution_count": 3,
   "metadata": {},
   "outputs": [
    {
     "data": {
      "text/html": [
       "<div>\n",
       "<style scoped>\n",
       "    .dataframe tbody tr th:only-of-type {\n",
       "        vertical-align: middle;\n",
       "    }\n",
       "\n",
       "    .dataframe tbody tr th {\n",
       "        vertical-align: top;\n",
       "    }\n",
       "\n",
       "    .dataframe thead th {\n",
       "        text-align: right;\n",
       "    }\n",
       "</style>\n",
       "<table border=\"1\" class=\"dataframe\">\n",
       "  <thead>\n",
       "    <tr style=\"text-align: right;\">\n",
       "      <th></th>\n",
       "      <th>developer</th>\n",
       "      <th>price</th>\n",
       "      <th>items_count</th>\n",
       "      <th>year</th>\n",
       "    </tr>\n",
       "  </thead>\n",
       "  <tbody>\n",
       "    <tr>\n",
       "      <th>831</th>\n",
       "      <td>Ejoy Games</td>\n",
       "      <td>Free To Play</td>\n",
       "      <td>2014-06-06</td>\n",
       "      <td>2017</td>\n",
       "    </tr>\n",
       "    <tr>\n",
       "      <th>870</th>\n",
       "      <td>Bitl,Cobalt-57</td>\n",
       "      <td>Free</td>\n",
       "      <td>2016-11-21</td>\n",
       "      <td>2015</td>\n",
       "    </tr>\n",
       "  </tbody>\n",
       "</table>\n",
       "</div>"
      ],
      "text/plain": [
       "          developer         price items_count  year\n",
       "831      Ejoy Games  Free To Play  2014-06-06  2017\n",
       "870  Bitl,Cobalt-57          Free  2016-11-21  2015"
      ]
     },
     "execution_count": 3,
     "metadata": {},
     "output_type": "execute_result"
    }
   ],
   "source": [
    "df_funcion5.sample(2)"
   ]
  },
  {
   "cell_type": "code",
   "execution_count": 4,
   "metadata": {},
   "outputs": [],
   "source": [
    "def developer(desarrollador: str):\n",
    "    try:\n",
    "        # Filtrar el DataFrame para obtener las filas del desarrollador especificado\n",
    "        df_desarrollador = df_funcion5[df_funcion5['developer'] == desarrollador]\n",
    "\n",
    "        # Verificar si el DataFrame filtrado no está vacío\n",
    "        if df_desarrollador.empty:\n",
    "            return \"No se encontraron datos para el desarrollador especificado.\"\n",
    "\n",
    "        # Calcular el porcentaje de contenido gratuito (\"Free\") por año\n",
    "        def calcular_porcentaje_free(group):\n",
    "            total_items = len(group)\n",
    "            porcentaje_free = (group['price'] == 'Free').sum() / total_items * 100\n",
    "            return porcentaje_free\n",
    "\n",
    "        porcentaje_free_por_anio = df_desarrollador.groupby('year').apply(calcular_porcentaje_free)\n",
    "\n",
    "        # Calcular la cantidad total de items por año\n",
    "        cantidad_items_por_anio = df_desarrollador['year'].value_counts().sort_index()\n",
    "\n",
    "        # Combinar las dos series en un DataFrame\n",
    "        resultado_df = pd.DataFrame({'Año': porcentaje_free_por_anio.index,\n",
    "                                     'Contenido Free (%)': porcentaje_free_por_anio.values,\n",
    "                                     'Cantidad de Items': cantidad_items_por_anio.values})\n",
    "\n",
    "        # Convertir el DataFrame resultante en una lista de diccionarios\n",
    "        resultado_lista = resultado_df.to_dict(orient='records')\n",
    "\n",
    "        return resultado_lista\n",
    "    except KeyError:\n",
    "        return f\"Desarrollador '{desarrollador}' no encontrado en el DataFrame\"\n",
    "\n"
   ]
  },
  {
   "cell_type": "code",
   "execution_count": 5,
   "metadata": {},
   "outputs": [
    {
     "name": "stdout",
     "output_type": "stream",
     "text": [
      "[{'Año': '2016', 'Contenido Free (%)': 50.0, 'Cantidad de Items': 6}, {'Año': '2017', 'Contenido Free (%)': 100.0, 'Cantidad de Items': 2}]\n"
     ]
    }
   ],
   "source": [
    "# Llamada a la función para obtener información del desarrollador específico\n",
    " \n",
    "resultado = developer('Monster Games')\n",
    "print(resultado)"
   ]
  },
  {
   "cell_type": "code",
   "execution_count": 64,
   "metadata": {},
   "outputs": [
    {
     "name": "stdout",
     "output_type": "stream",
     "text": [
      "Requirement already satisfied: scikit-learn in c:\\users\\rossa\\appdata\\local\\programs\\python\\python310\\lib\\site-packages (1.3.0)"
     ]
    },
    {
     "name": "stderr",
     "output_type": "stream",
     "text": [
      "\n",
      "[notice] A new release of pip available: 22.2.1 -> 23.2.1\n",
      "[notice] To update, run: python.exe -m pip install --upgrade pip\n"
     ]
    },
    {
     "name": "stdout",
     "output_type": "stream",
     "text": [
      "\n",
      "Requirement already satisfied: threadpoolctl>=2.0.0 in c:\\users\\rossa\\appdata\\local\\programs\\python\\python310\\lib\\site-packages (from scikit-learn) (3.2.0)\n",
      "Requirement already satisfied: scipy>=1.5.0 in c:\\users\\rossa\\appdata\\local\\programs\\python\\python310\\lib\\site-packages (from scikit-learn) (1.10.1)\n",
      "Requirement already satisfied: joblib>=1.1.1 in c:\\users\\rossa\\appdata\\local\\programs\\python\\python310\\lib\\site-packages (from scikit-learn) (1.3.2)\n",
      "Requirement already satisfied: numpy>=1.17.3 in c:\\users\\rossa\\appdata\\local\\programs\\python\\python310\\lib\\site-packages (from scikit-learn) (1.24.3)\n"
     ]
    }
   ],
   "source": [
    "! pip install scikit-learn"
   ]
  }
 ],
 "metadata": {
  "kernelspec": {
   "display_name": "Python 3",
   "language": "python",
   "name": "python3"
  },
  "language_info": {
   "codemirror_mode": {
    "name": "ipython",
    "version": 3
   },
   "file_extension": ".py",
   "mimetype": "text/x-python",
   "name": "python",
   "nbconvert_exporter": "python",
   "pygments_lexer": "ipython3",
   "version": "3.10.6"
  },
  "orig_nbformat": 4
 },
 "nbformat": 4,
 "nbformat_minor": 2
}
