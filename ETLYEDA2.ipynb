{
 "cells": [
  {
   "cell_type": "markdown",
   "metadata": {},
   "source": [
    "Limpieza de archivo GAMES"
   ]
  },
  {
   "cell_type": "code",
   "execution_count": 1,
   "metadata": {},
   "outputs": [],
   "source": [
    "import pandas as pd\n",
    "import numpy as np\n",
    "import json\n",
    "import matplotlib.pyplot as plt\n",
    "import seaborn as sns \n",
    "import ipywidgets as widgets\n",
    "import ast"
   ]
  },
  {
   "cell_type": "markdown",
   "metadata": {},
   "source": [
    "FUNCION 5 (Función disponible en el archivo proyecto_funciones.ipynb)\n",
    "Preparación del DF para generar la función 5"
   ]
  },
  {
   "cell_type": "markdown",
   "metadata": {},
   "source": [
    "ARCHIVO GAMES"
   ]
  },
  {
   "cell_type": "code",
   "execution_count": 2,
   "metadata": {},
   "outputs": [],
   "source": [
    "# Lee el archivo JSON\n",
    "with open(r\"C:\\Users\\rossa\\Desktop\\HENRY\\PROYECTO INDIVIDUAL\\PI_ML_OPS\\src\\output_steam_games.json\") as f:\n",
    "    data = f.readlines()\n",
    "\n",
    "# Elimina saltos de línea y concatena en una cadena JSON válida\n",
    "data_json_str = \"[\" + ','.join(map(lambda x: x.rstrip(), data)) + \"]\"\n",
    "\n",
    "# Crea un DataFrame desde la cadena JSON\n",
    "data_df = pd.read_json(data_json_str)\n",
    "\n",
    "# Guarda el DataFrame en un archivo CSV\n",
    "#data_df.to_csv(\"df_steam_games.csv\", index=False)\n"
   ]
  },
  {
   "cell_type": "code",
   "execution_count": 3,
   "metadata": {},
   "outputs": [
    {
     "data": {
      "text/html": [
       "<div>\n",
       "<style scoped>\n",
       "    .dataframe tbody tr th:only-of-type {\n",
       "        vertical-align: middle;\n",
       "    }\n",
       "\n",
       "    .dataframe tbody tr th {\n",
       "        vertical-align: top;\n",
       "    }\n",
       "\n",
       "    .dataframe thead th {\n",
       "        text-align: right;\n",
       "    }\n",
       "</style>\n",
       "<table border=\"1\" class=\"dataframe\">\n",
       "  <thead>\n",
       "    <tr style=\"text-align: right;\">\n",
       "      <th></th>\n",
       "      <th>publisher</th>\n",
       "      <th>genres</th>\n",
       "      <th>app_name</th>\n",
       "      <th>title</th>\n",
       "      <th>url</th>\n",
       "      <th>release_date</th>\n",
       "      <th>tags</th>\n",
       "      <th>reviews_url</th>\n",
       "      <th>discount_price</th>\n",
       "      <th>specs</th>\n",
       "      <th>price</th>\n",
       "      <th>early_access</th>\n",
       "      <th>id</th>\n",
       "      <th>metascore</th>\n",
       "      <th>developer</th>\n",
       "      <th>user_id</th>\n",
       "      <th>steam_id</th>\n",
       "      <th>items</th>\n",
       "      <th>items_count</th>\n",
       "    </tr>\n",
       "  </thead>\n",
       "  <tbody>\n",
       "    <tr>\n",
       "      <th>0</th>\n",
       "      <td>None</td>\n",
       "      <td>None</td>\n",
       "      <td>None</td>\n",
       "      <td>None</td>\n",
       "      <td>None</td>\n",
       "      <td>None</td>\n",
       "      <td>None</td>\n",
       "      <td>None</td>\n",
       "      <td>NaN</td>\n",
       "      <td>None</td>\n",
       "      <td>None</td>\n",
       "      <td>NaN</td>\n",
       "      <td>NaN</td>\n",
       "      <td>None</td>\n",
       "      <td>None</td>\n",
       "      <td>76561197970982479</td>\n",
       "      <td>7.656120e+16</td>\n",
       "      <td>[{'item_id': '10', 'item_name': 'Counter-Strik...</td>\n",
       "      <td>277.0</td>\n",
       "    </tr>\n",
       "    <tr>\n",
       "      <th>1</th>\n",
       "      <td>None</td>\n",
       "      <td>None</td>\n",
       "      <td>None</td>\n",
       "      <td>None</td>\n",
       "      <td>None</td>\n",
       "      <td>None</td>\n",
       "      <td>None</td>\n",
       "      <td>None</td>\n",
       "      <td>NaN</td>\n",
       "      <td>None</td>\n",
       "      <td>None</td>\n",
       "      <td>NaN</td>\n",
       "      <td>NaN</td>\n",
       "      <td>None</td>\n",
       "      <td>None</td>\n",
       "      <td>js41637</td>\n",
       "      <td>7.656120e+16</td>\n",
       "      <td>[{'item_id': '10', 'item_name': 'Counter-Strik...</td>\n",
       "      <td>888.0</td>\n",
       "    </tr>\n",
       "  </tbody>\n",
       "</table>\n",
       "</div>"
      ],
      "text/plain": [
       "  publisher genres app_name title   url release_date  tags reviews_url   \n",
       "0      None   None     None  None  None         None  None        None  \\\n",
       "1      None   None     None  None  None         None  None        None   \n",
       "\n",
       "   discount_price specs price  early_access  id metascore developer   \n",
       "0             NaN  None  None           NaN NaN      None      None  \\\n",
       "1             NaN  None  None           NaN NaN      None      None   \n",
       "\n",
       "             user_id      steam_id   \n",
       "0  76561197970982479  7.656120e+16  \\\n",
       "1            js41637  7.656120e+16   \n",
       "\n",
       "                                               items  items_count  \n",
       "0  [{'item_id': '10', 'item_name': 'Counter-Strik...        277.0  \n",
       "1  [{'item_id': '10', 'item_name': 'Counter-Strik...        888.0  "
      ]
     },
     "execution_count": 3,
     "metadata": {},
     "output_type": "execute_result"
    }
   ],
   "source": [
    "data_df.head(2)"
   ]
  },
  {
   "cell_type": "code",
   "execution_count": 4,
   "metadata": {},
   "outputs": [
    {
     "data": {
      "text/plain": [
       "Index(['publisher', 'genres', 'app_name', 'title', 'url', 'release_date',\n",
       "       'tags', 'reviews_url', 'discount_price', 'specs', 'price',\n",
       "       'early_access', 'id', 'metascore', 'developer', 'user_id', 'steam_id',\n",
       "       'items', 'items_count'],\n",
       "      dtype='object')"
      ]
     },
     "execution_count": 4,
     "metadata": {},
     "output_type": "execute_result"
    }
   ],
   "source": [
    "data_df.columns"
   ]
  },
  {
   "cell_type": "code",
   "execution_count": 5,
   "metadata": {},
   "outputs": [
    {
     "data": {
      "text/plain": [
       "pandas.core.frame.DataFrame"
      ]
     },
     "execution_count": 5,
     "metadata": {},
     "output_type": "execute_result"
    }
   ],
   "source": [
    "type(data_df)"
   ]
  },
  {
   "cell_type": "code",
   "execution_count": 6,
   "metadata": {},
   "outputs": [],
   "source": [
    "data_df_nuevo = pd.DataFrame(data_df[['release_date','developer','price','items_count']]) "
   ]
  },
  {
   "cell_type": "code",
   "execution_count": 7,
   "metadata": {},
   "outputs": [
    {
     "data": {
      "text/html": [
       "<div>\n",
       "<style scoped>\n",
       "    .dataframe tbody tr th:only-of-type {\n",
       "        vertical-align: middle;\n",
       "    }\n",
       "\n",
       "    .dataframe tbody tr th {\n",
       "        vertical-align: top;\n",
       "    }\n",
       "\n",
       "    .dataframe thead th {\n",
       "        text-align: right;\n",
       "    }\n",
       "</style>\n",
       "<table border=\"1\" class=\"dataframe\">\n",
       "  <thead>\n",
       "    <tr style=\"text-align: right;\">\n",
       "      <th></th>\n",
       "      <th>release_date</th>\n",
       "      <th>developer</th>\n",
       "      <th>price</th>\n",
       "      <th>items_count</th>\n",
       "    </tr>\n",
       "  </thead>\n",
       "  <tbody>\n",
       "    <tr>\n",
       "      <th>0</th>\n",
       "      <td>None</td>\n",
       "      <td>None</td>\n",
       "      <td>None</td>\n",
       "      <td>277.0</td>\n",
       "    </tr>\n",
       "    <tr>\n",
       "      <th>1</th>\n",
       "      <td>None</td>\n",
       "      <td>None</td>\n",
       "      <td>None</td>\n",
       "      <td>888.0</td>\n",
       "    </tr>\n",
       "  </tbody>\n",
       "</table>\n",
       "</div>"
      ],
      "text/plain": [
       "  release_date developer price  items_count\n",
       "0         None      None  None        277.0\n",
       "1         None      None  None        888.0"
      ]
     },
     "execution_count": 7,
     "metadata": {},
     "output_type": "execute_result"
    }
   ],
   "source": [
    "data_df_nuevo.head(2)"
   ]
  },
  {
   "cell_type": "code",
   "execution_count": 8,
   "metadata": {},
   "outputs": [
    {
     "name": "stdout",
     "output_type": "stream",
     "text": [
      "<class 'pandas.core.frame.DataFrame'>\n",
      "RangeIndex: 120445 entries, 0 to 120444\n",
      "Data columns (total 4 columns):\n",
      " #   Column        Non-Null Count  Dtype  \n",
      "---  ------        --------------  -----  \n",
      " 0   release_date  30068 non-null  object \n",
      " 1   developer     28836 non-null  object \n",
      " 2   price         30758 non-null  object \n",
      " 3   items_count   88310 non-null  float64\n",
      "dtypes: float64(1), object(3)\n",
      "memory usage: 3.7+ MB\n"
     ]
    }
   ],
   "source": [
    "data_df_nuevo.info()"
   ]
  },
  {
   "cell_type": "code",
   "execution_count": 9,
   "metadata": {},
   "outputs": [
    {
     "data": {
      "text/plain": [
       "pandas.core.frame.DataFrame"
      ]
     },
     "execution_count": 9,
     "metadata": {},
     "output_type": "execute_result"
    }
   ],
   "source": [
    "type(data_df)"
   ]
  },
  {
   "cell_type": "code",
   "execution_count": 10,
   "metadata": {},
   "outputs": [
    {
     "data": {
      "text/plain": [
       "release_date    90377\n",
       "developer       91609\n",
       "price           89687\n",
       "items_count     32135\n",
       "dtype: int64"
      ]
     },
     "execution_count": 10,
     "metadata": {},
     "output_type": "execute_result"
    }
   ],
   "source": [
    "data_df_nuevo.isnull().sum()\n"
   ]
  },
  {
   "cell_type": "code",
   "execution_count": 11,
   "metadata": {},
   "outputs": [
    {
     "data": {
      "text/plain": [
       "88310     2018-01-04\n",
       "88311     2018-01-04\n",
       "88312     2017-07-24\n",
       "88313     2017-12-07\n",
       "88315     2018-01-04\n",
       "             ...    \n",
       "120439    2018-01-04\n",
       "120440    2018-01-04\n",
       "120441    2018-01-04\n",
       "120442    2018-01-04\n",
       "120443    2017-09-02\n",
       "Name: release_date, Length: 30068, dtype: object"
      ]
     },
     "execution_count": 11,
     "metadata": {},
     "output_type": "execute_result"
    }
   ],
   "source": [
    "valor_dato =data_df_nuevo['release_date'][data_df_nuevo['release_date'].notna()]\n",
    "valor_dato "
   ]
  },
  {
   "cell_type": "code",
   "execution_count": 12,
   "metadata": {},
   "outputs": [],
   "source": [
    "\n",
    "#funcion para rellenar espacios\n",
    "\n",
    "def llenado_NaN(row, columna, valor_dato):\n",
    "    if pd.isna(row[columna]):\n",
    "        return np.random.choice(valor_dato)\n",
    "    else:\n",
    "        return row[columna]\n",
    "\n",
    "# Lista de columnas en las que deseas aplicar la función\n",
    "columnas_a_llenar = ['developer', 'items_count', 'release_date'] \n",
    "\n",
    "# Aplicar la función de llenado de NaN a las columnas seleccionadas\n",
    "for columna in columnas_a_llenar:\n",
    "    data_df_nuevo[columna] = data_df_nuevo.apply(llenado_NaN, axis=1, args=(columna, valor_dato))\n",
    "\n"
   ]
  },
  {
   "cell_type": "code",
   "execution_count": 13,
   "metadata": {},
   "outputs": [
    {
     "data": {
      "text/plain": [
       "release_date        0\n",
       "developer           0\n",
       "price           89687\n",
       "items_count         0\n",
       "dtype: int64"
      ]
     },
     "execution_count": 13,
     "metadata": {},
     "output_type": "execute_result"
    }
   ],
   "source": [
    "data_df_nuevo.isna().sum()"
   ]
  },
  {
   "cell_type": "code",
   "execution_count": 14,
   "metadata": {},
   "outputs": [
    {
     "data": {
      "text/plain": [
       "price\n",
       "4.99           4278\n",
       "9.99           3902\n",
       "2.99           3429\n",
       "0.99           2607\n",
       "1.99           2541\n",
       "               ... \n",
       "74.76             1\n",
       "32.99             1\n",
       "14.95             1\n",
       "26.99             1\n",
       "Free to Use       1\n",
       "Name: count, Length: 162, dtype: int64"
      ]
     },
     "execution_count": 14,
     "metadata": {},
     "output_type": "execute_result"
    }
   ],
   "source": [
    "data_df_nuevo[\"price\"].value_counts()"
   ]
  },
  {
   "cell_type": "code",
   "execution_count": 15,
   "metadata": {},
   "outputs": [
    {
     "name": "stdout",
     "output_type": "stream",
     "text": [
      "Cantidad de veces que aparecen 'Free to Play', 'Free To Play', 'Free' en la columna 'price': 2882\n"
     ]
    }
   ],
   "source": [
    "# Filtrar las cadenas de la columna \"price\"\n",
    "cadenas_en_price = data_df_nuevo[data_df_nuevo['price'].apply(lambda x: isinstance(x, str))]['price']\n",
    "\n",
    "# Contar la cantidad de veces que aparecen las tres cadenas en la columna \"price\"\n",
    "count_free_to_play = cadenas_en_price.str.count(\"Free to Play\").sum()\n",
    "count_free_To_play = cadenas_en_price.str.count(\"Free To Play\").sum()\n",
    "count_free = cadenas_en_price.str.count(\"Free\").sum()\n",
    "\n",
    "total_count = count_free_to_play + count_free + count_free_To_play \n",
    "print(\"Cantidad de veces que aparecen 'Free to Play', 'Free To Play', 'Free' en la columna 'price':\", total_count)"
   ]
  },
  {
   "cell_type": "code",
   "execution_count": 16,
   "metadata": {},
   "outputs": [
    {
     "data": {
      "text/plain": [
       "array([None, 4.99, 'Free To Play', 'Free to Play', 0.99, 2.99, 3.99, 9.99,\n",
       "       18.99, 29.99, 'Free', 10.99, 1.5899999999999999, 14.99, 1.99,\n",
       "       59.99, 8.99, 6.99, 7.99, 39.99, 19.99, 7.49, 12.99, 5.99, 2.49,\n",
       "       15.99, 1.25, 24.99, 17.99, 61.99, 3.49, 11.99, 13.99, 'Free Demo',\n",
       "       'Play for Free!', 34.99, 74.76, 1.49, 32.99, 99.99, 14.95, 69.99,\n",
       "       16.99, 79.99, 49.99, 5.0, 44.99, 13.98, 29.96, 119.99, 109.99,\n",
       "       149.99, 771.71, 'Install Now', 21.99, 89.99,\n",
       "       'Play WARMACHINE: Tactics Demo', 0.98, 139.92, 4.29, 64.99,\n",
       "       'Free Mod', 54.99, 74.99, 'Install Theme', 0.89, 'Third-party',\n",
       "       0.5, 'Play Now', 299.99, 1.29, 3.0, 15.0, 5.49, 23.99, 49.0, 20.99,\n",
       "       10.93, 1.3900000000000001, 'Free HITMAN™ Holiday Pack', 36.99,\n",
       "       4.49, 2.0, 4.0, 9.0, 234.99, 1.9500000000000002, 1.5, 199.0, 189.0,\n",
       "       6.66, 27.99, 10.49, 129.99, 179.0, 26.99, 399.99, 31.99, 399.0,\n",
       "       20.0, 40.0, 3.33, 199.99, 22.99, 320.0, 38.85, 71.7, 59.95, 995.0,\n",
       "       27.49, 3.39, 6.0, 19.95, 499.99, 16.06, 4.68, 131.4, 44.98, 202.76,\n",
       "       1.0, 2.3, 0.9500000000000001, 172.24, 249.99, 2.9699999999999998,\n",
       "       10.96, 10.0, 30.0, 2.66, 6.48, 19.29, 11.15, 18.9, 2.89,\n",
       "       'Play the Demo', 99.0, 87.94, 599.0, 8.98, 9.69, 0.49, 9.98, 9.95,\n",
       "       7.0, 'Starting at $499.00', 'Starting at $449.00', 12.89, 6.49,\n",
       "       1.87, 42.99, 41.99, 289.99, 'Free to Try', 23.96, 5.65, 12.0,\n",
       "       13.37, 189.96, 124.99, 'Free Movie', 19.98, 160.91, 'Free to Use'],\n",
       "      dtype=object)"
      ]
     },
     "execution_count": 16,
     "metadata": {},
     "output_type": "execute_result"
    }
   ],
   "source": [
    "data_df_nuevo['price'].unique()"
   ]
  },
  {
   "cell_type": "code",
   "execution_count": 17,
   "metadata": {},
   "outputs": [
    {
     "data": {
      "text/html": [
       "<div>\n",
       "<style scoped>\n",
       "    .dataframe tbody tr th:only-of-type {\n",
       "        vertical-align: middle;\n",
       "    }\n",
       "\n",
       "    .dataframe tbody tr th {\n",
       "        vertical-align: top;\n",
       "    }\n",
       "\n",
       "    .dataframe thead th {\n",
       "        text-align: right;\n",
       "    }\n",
       "</style>\n",
       "<table border=\"1\" class=\"dataframe\">\n",
       "  <thead>\n",
       "    <tr style=\"text-align: right;\">\n",
       "      <th></th>\n",
       "      <th>release_date</th>\n",
       "      <th>developer</th>\n",
       "      <th>price</th>\n",
       "      <th>items_count</th>\n",
       "    </tr>\n",
       "  </thead>\n",
       "  <tbody>\n",
       "    <tr>\n",
       "      <th>0</th>\n",
       "      <td>2018-01-04</td>\n",
       "      <td>Secret Level SRL</td>\n",
       "      <td>Free To Play</td>\n",
       "      <td>2015-01-27</td>\n",
       "    </tr>\n",
       "    <tr>\n",
       "      <th>1</th>\n",
       "      <td>2017-07-24</td>\n",
       "      <td>Poolians.com</td>\n",
       "      <td>Free to Play</td>\n",
       "      <td>2017-10-17</td>\n",
       "    </tr>\n",
       "    <tr>\n",
       "      <th>2</th>\n",
       "      <td>2017-06-16</td>\n",
       "      <td>2014-10-09</td>\n",
       "      <td>Free</td>\n",
       "      <td>2000-11-01</td>\n",
       "    </tr>\n",
       "    <tr>\n",
       "      <th>3</th>\n",
       "      <td>2006-12-14</td>\n",
       "      <td>Unknown Worlds Entertainment</td>\n",
       "      <td>Free</td>\n",
       "      <td>2017-03-28</td>\n",
       "    </tr>\n",
       "    <tr>\n",
       "      <th>4</th>\n",
       "      <td>2008-10-17</td>\n",
       "      <td>Sandstorm Productions</td>\n",
       "      <td>Free</td>\n",
       "      <td>2017-12-29</td>\n",
       "    </tr>\n",
       "    <tr>\n",
       "      <th>...</th>\n",
       "      <td>...</td>\n",
       "      <td>...</td>\n",
       "      <td>...</td>\n",
       "      <td>...</td>\n",
       "    </tr>\n",
       "    <tr>\n",
       "      <th>1895</th>\n",
       "      <td>2018-01-01</td>\n",
       "      <td>Engin Mercan</td>\n",
       "      <td>Free</td>\n",
       "      <td>2016-06-28</td>\n",
       "    </tr>\n",
       "    <tr>\n",
       "      <th>1896</th>\n",
       "      <td>2015-01-15</td>\n",
       "      <td>2016-06-16</td>\n",
       "      <td>Free</td>\n",
       "      <td>2016-09-08</td>\n",
       "    </tr>\n",
       "    <tr>\n",
       "      <th>1897</th>\n",
       "      <td>2018-01-03</td>\n",
       "      <td>杭州分浪网络科技有限公司</td>\n",
       "      <td>Free To Play</td>\n",
       "      <td>2008-10-31</td>\n",
       "    </tr>\n",
       "    <tr>\n",
       "      <th>1898</th>\n",
       "      <td>2018-01-03</td>\n",
       "      <td>KUMA GAMES</td>\n",
       "      <td>Free</td>\n",
       "      <td>2015-10-23</td>\n",
       "    </tr>\n",
       "    <tr>\n",
       "      <th>1899</th>\n",
       "      <td>2018-01-03</td>\n",
       "      <td>2015-07-30</td>\n",
       "      <td>Free</td>\n",
       "      <td>2015-09-21</td>\n",
       "    </tr>\n",
       "  </tbody>\n",
       "</table>\n",
       "<p>1900 rows × 4 columns</p>\n",
       "</div>"
      ],
      "text/plain": [
       "     release_date                     developer         price items_count\n",
       "0      2018-01-04              Secret Level SRL  Free To Play  2015-01-27\n",
       "1      2017-07-24                  Poolians.com  Free to Play  2017-10-17\n",
       "2      2017-06-16                    2014-10-09          Free  2000-11-01\n",
       "3      2006-12-14  Unknown Worlds Entertainment          Free  2017-03-28\n",
       "4      2008-10-17         Sandstorm Productions          Free  2017-12-29\n",
       "...           ...                           ...           ...         ...\n",
       "1895   2018-01-01                  Engin Mercan          Free  2016-06-28\n",
       "1896   2015-01-15                    2016-06-16          Free  2016-09-08\n",
       "1897   2018-01-03                  杭州分浪网络科技有限公司  Free To Play  2008-10-31\n",
       "1898   2018-01-03                    KUMA GAMES          Free  2015-10-23\n",
       "1899   2018-01-03                    2015-07-30          Free  2015-09-21\n",
       "\n",
       "[1900 rows x 4 columns]"
      ]
     },
     "execution_count": 17,
     "metadata": {},
     "output_type": "execute_result"
    }
   ],
   "source": [
    "# Filtra y muestra solo los valores que contienen la palabra \"free\" (sin importar mayúsculas o minúsculas)\n",
    "data_df_nuevo_f = data_df_nuevo[data_df_nuevo['price'].str.contains('free', case=False, na=False)]\n",
    "data_df_nuevo_f = data_df_nuevo_f.reset_index(drop=True)\n",
    "data_df_nuevo_f"
   ]
  },
  {
   "cell_type": "code",
   "execution_count": 18,
   "metadata": {},
   "outputs": [
    {
     "data": {
      "text/html": [
       "<div>\n",
       "<style scoped>\n",
       "    .dataframe tbody tr th:only-of-type {\n",
       "        vertical-align: middle;\n",
       "    }\n",
       "\n",
       "    .dataframe tbody tr th {\n",
       "        vertical-align: top;\n",
       "    }\n",
       "\n",
       "    .dataframe thead th {\n",
       "        text-align: right;\n",
       "    }\n",
       "</style>\n",
       "<table border=\"1\" class=\"dataframe\">\n",
       "  <thead>\n",
       "    <tr style=\"text-align: right;\">\n",
       "      <th></th>\n",
       "      <th>release_date</th>\n",
       "      <th>developer</th>\n",
       "      <th>price</th>\n",
       "      <th>items_count</th>\n",
       "      <th>year</th>\n",
       "    </tr>\n",
       "  </thead>\n",
       "  <tbody>\n",
       "    <tr>\n",
       "      <th>0</th>\n",
       "      <td>2018-01-04</td>\n",
       "      <td>Secret Level SRL</td>\n",
       "      <td>Free To Play</td>\n",
       "      <td>2015-01-27</td>\n",
       "      <td>2018</td>\n",
       "    </tr>\n",
       "    <tr>\n",
       "      <th>1</th>\n",
       "      <td>2017-07-24</td>\n",
       "      <td>Poolians.com</td>\n",
       "      <td>Free to Play</td>\n",
       "      <td>2017-10-17</td>\n",
       "      <td>2017</td>\n",
       "    </tr>\n",
       "    <tr>\n",
       "      <th>2</th>\n",
       "      <td>2017-06-16</td>\n",
       "      <td>2014-10-09</td>\n",
       "      <td>Free</td>\n",
       "      <td>2000-11-01</td>\n",
       "      <td>2017</td>\n",
       "    </tr>\n",
       "    <tr>\n",
       "      <th>3</th>\n",
       "      <td>2006-12-14</td>\n",
       "      <td>Unknown Worlds Entertainment</td>\n",
       "      <td>Free</td>\n",
       "      <td>2017-03-28</td>\n",
       "      <td>2006</td>\n",
       "    </tr>\n",
       "    <tr>\n",
       "      <th>4</th>\n",
       "      <td>2008-10-17</td>\n",
       "      <td>Sandstorm Productions</td>\n",
       "      <td>Free</td>\n",
       "      <td>2017-12-29</td>\n",
       "      <td>2008</td>\n",
       "    </tr>\n",
       "    <tr>\n",
       "      <th>...</th>\n",
       "      <td>...</td>\n",
       "      <td>...</td>\n",
       "      <td>...</td>\n",
       "      <td>...</td>\n",
       "      <td>...</td>\n",
       "    </tr>\n",
       "    <tr>\n",
       "      <th>1895</th>\n",
       "      <td>2018-01-01</td>\n",
       "      <td>Engin Mercan</td>\n",
       "      <td>Free</td>\n",
       "      <td>2016-06-28</td>\n",
       "      <td>2018</td>\n",
       "    </tr>\n",
       "    <tr>\n",
       "      <th>1896</th>\n",
       "      <td>2015-01-15</td>\n",
       "      <td>2016-06-16</td>\n",
       "      <td>Free</td>\n",
       "      <td>2016-09-08</td>\n",
       "      <td>2015</td>\n",
       "    </tr>\n",
       "    <tr>\n",
       "      <th>1897</th>\n",
       "      <td>2018-01-03</td>\n",
       "      <td>杭州分浪网络科技有限公司</td>\n",
       "      <td>Free To Play</td>\n",
       "      <td>2008-10-31</td>\n",
       "      <td>2018</td>\n",
       "    </tr>\n",
       "    <tr>\n",
       "      <th>1898</th>\n",
       "      <td>2018-01-03</td>\n",
       "      <td>KUMA GAMES</td>\n",
       "      <td>Free</td>\n",
       "      <td>2015-10-23</td>\n",
       "      <td>2018</td>\n",
       "    </tr>\n",
       "    <tr>\n",
       "      <th>1899</th>\n",
       "      <td>2018-01-03</td>\n",
       "      <td>2015-07-30</td>\n",
       "      <td>Free</td>\n",
       "      <td>2015-09-21</td>\n",
       "      <td>2018</td>\n",
       "    </tr>\n",
       "  </tbody>\n",
       "</table>\n",
       "<p>1900 rows × 5 columns</p>\n",
       "</div>"
      ],
      "text/plain": [
       "     release_date                     developer         price items_count   \n",
       "0      2018-01-04              Secret Level SRL  Free To Play  2015-01-27  \\\n",
       "1      2017-07-24                  Poolians.com  Free to Play  2017-10-17   \n",
       "2      2017-06-16                    2014-10-09          Free  2000-11-01   \n",
       "3      2006-12-14  Unknown Worlds Entertainment          Free  2017-03-28   \n",
       "4      2008-10-17         Sandstorm Productions          Free  2017-12-29   \n",
       "...           ...                           ...           ...         ...   \n",
       "1895   2018-01-01                  Engin Mercan          Free  2016-06-28   \n",
       "1896   2015-01-15                    2016-06-16          Free  2016-09-08   \n",
       "1897   2018-01-03                  杭州分浪网络科技有限公司  Free To Play  2008-10-31   \n",
       "1898   2018-01-03                    KUMA GAMES          Free  2015-10-23   \n",
       "1899   2018-01-03                    2015-07-30          Free  2015-09-21   \n",
       "\n",
       "      year  \n",
       "0     2018  \n",
       "1     2017  \n",
       "2     2017  \n",
       "3     2006  \n",
       "4     2008  \n",
       "...    ...  \n",
       "1895  2018  \n",
       "1896  2015  \n",
       "1897  2018  \n",
       "1898  2018  \n",
       "1899  2018  \n",
       "\n",
       "[1900 rows x 5 columns]"
      ]
     },
     "execution_count": 18,
     "metadata": {},
     "output_type": "execute_result"
    }
   ],
   "source": [
    "# Extrae los primeros 4 caracteres de la columna 'release_date' y crea una nueva columna 'year'\n",
    "data_df_nuevo_f['year'] = data_df_nuevo_f['release_date'].str[:4]\n",
    "\n",
    "data_df_nuevo_f"
   ]
  },
  {
   "cell_type": "code",
   "execution_count": 19,
   "metadata": {},
   "outputs": [],
   "source": [
    "data_df_nuevo_f = data_df_nuevo_f.drop('release_date', axis=1)"
   ]
  },
  {
   "cell_type": "code",
   "execution_count": 20,
   "metadata": {},
   "outputs": [
    {
     "data": {
      "text/html": [
       "<div>\n",
       "<style scoped>\n",
       "    .dataframe tbody tr th:only-of-type {\n",
       "        vertical-align: middle;\n",
       "    }\n",
       "\n",
       "    .dataframe tbody tr th {\n",
       "        vertical-align: top;\n",
       "    }\n",
       "\n",
       "    .dataframe thead th {\n",
       "        text-align: right;\n",
       "    }\n",
       "</style>\n",
       "<table border=\"1\" class=\"dataframe\">\n",
       "  <thead>\n",
       "    <tr style=\"text-align: right;\">\n",
       "      <th></th>\n",
       "      <th>developer</th>\n",
       "      <th>price</th>\n",
       "      <th>items_count</th>\n",
       "      <th>year</th>\n",
       "    </tr>\n",
       "  </thead>\n",
       "  <tbody>\n",
       "    <tr>\n",
       "      <th>0</th>\n",
       "      <td>Secret Level SRL</td>\n",
       "      <td>Free To Play</td>\n",
       "      <td>2015-01-27</td>\n",
       "      <td>2018</td>\n",
       "    </tr>\n",
       "    <tr>\n",
       "      <th>1</th>\n",
       "      <td>Poolians.com</td>\n",
       "      <td>Free to Play</td>\n",
       "      <td>2017-10-17</td>\n",
       "      <td>2017</td>\n",
       "    </tr>\n",
       "  </tbody>\n",
       "</table>\n",
       "</div>"
      ],
      "text/plain": [
       "          developer         price items_count  year\n",
       "0  Secret Level SRL  Free To Play  2015-01-27  2018\n",
       "1      Poolians.com  Free to Play  2017-10-17  2017"
      ]
     },
     "execution_count": 20,
     "metadata": {},
     "output_type": "execute_result"
    }
   ],
   "source": [
    "data_df_nuevo_f.head(2)"
   ]
  },
  {
   "cell_type": "code",
   "execution_count": 21,
   "metadata": {},
   "outputs": [
    {
     "data": {
      "text/html": [
       "<div>\n",
       "<style scoped>\n",
       "    .dataframe tbody tr th:only-of-type {\n",
       "        vertical-align: middle;\n",
       "    }\n",
       "\n",
       "    .dataframe tbody tr th {\n",
       "        vertical-align: top;\n",
       "    }\n",
       "\n",
       "    .dataframe thead th {\n",
       "        text-align: right;\n",
       "    }\n",
       "</style>\n",
       "<table border=\"1\" class=\"dataframe\">\n",
       "  <thead>\n",
       "    <tr style=\"text-align: right;\">\n",
       "      <th></th>\n",
       "      <th>developer</th>\n",
       "      <th>price</th>\n",
       "      <th>items_count</th>\n",
       "      <th>year</th>\n",
       "    </tr>\n",
       "  </thead>\n",
       "  <tbody>\n",
       "    <tr>\n",
       "      <th>1647</th>\n",
       "      <td>Ludosity,Remar Games</td>\n",
       "      <td>Free to Play</td>\n",
       "      <td>2014-02-13</td>\n",
       "      <td>2014</td>\n",
       "    </tr>\n",
       "    <tr>\n",
       "      <th>1050</th>\n",
       "      <td>Atom Switch, Inc.</td>\n",
       "      <td>Free</td>\n",
       "      <td>2016-10-25</td>\n",
       "      <td>2017</td>\n",
       "    </tr>\n",
       "    <tr>\n",
       "      <th>254</th>\n",
       "      <td>MuHa Games</td>\n",
       "      <td>Free</td>\n",
       "      <td>2016-12-16</td>\n",
       "      <td>2016</td>\n",
       "    </tr>\n",
       "    <tr>\n",
       "      <th>335</th>\n",
       "      <td>Katsudou Mangaya</td>\n",
       "      <td>Free To Play</td>\n",
       "      <td>2014-07-23</td>\n",
       "      <td>2016</td>\n",
       "    </tr>\n",
       "    <tr>\n",
       "      <th>663</th>\n",
       "      <td>MING-CHIEN LEE</td>\n",
       "      <td>Free</td>\n",
       "      <td>2015-12-21</td>\n",
       "      <td>2017</td>\n",
       "    </tr>\n",
       "    <tr>\n",
       "      <th>...</th>\n",
       "      <td>...</td>\n",
       "      <td>...</td>\n",
       "      <td>...</td>\n",
       "      <td>...</td>\n",
       "    </tr>\n",
       "    <tr>\n",
       "      <th>908</th>\n",
       "      <td>CreativeForge Games</td>\n",
       "      <td>Free</td>\n",
       "      <td>2015-01-26</td>\n",
       "      <td>2017</td>\n",
       "    </tr>\n",
       "    <tr>\n",
       "      <th>1350</th>\n",
       "      <td>ICE Entertainment</td>\n",
       "      <td>Free</td>\n",
       "      <td>2015-04-06</td>\n",
       "      <td>2016</td>\n",
       "    </tr>\n",
       "    <tr>\n",
       "      <th>848</th>\n",
       "      <td>2014-07-25</td>\n",
       "      <td>Free</td>\n",
       "      <td>2017-08-24</td>\n",
       "      <td>2017</td>\n",
       "    </tr>\n",
       "    <tr>\n",
       "      <th>1834</th>\n",
       "      <td>Mechanist Games</td>\n",
       "      <td>Free to Play</td>\n",
       "      <td>2013-06-06</td>\n",
       "      <td>2014</td>\n",
       "    </tr>\n",
       "    <tr>\n",
       "      <th>1569</th>\n",
       "      <td>Jagex</td>\n",
       "      <td>Free to Play</td>\n",
       "      <td>2017-03-02</td>\n",
       "      <td>2016</td>\n",
       "    </tr>\n",
       "  </tbody>\n",
       "</table>\n",
       "<p>950 rows × 4 columns</p>\n",
       "</div>"
      ],
      "text/plain": [
       "                 developer         price items_count  year\n",
       "1647  Ludosity,Remar Games  Free to Play  2014-02-13  2014\n",
       "1050     Atom Switch, Inc.          Free  2016-10-25  2017\n",
       "254             MuHa Games          Free  2016-12-16  2016\n",
       "335       Katsudou Mangaya  Free To Play  2014-07-23  2016\n",
       "663         MING-CHIEN LEE          Free  2015-12-21  2017\n",
       "...                    ...           ...         ...   ...\n",
       "908    CreativeForge Games          Free  2015-01-26  2017\n",
       "1350     ICE Entertainment          Free  2015-04-06  2016\n",
       "848             2014-07-25          Free  2017-08-24  2017\n",
       "1834       Mechanist Games  Free to Play  2013-06-06  2014\n",
       "1569                 Jagex  Free to Play  2017-03-02  2016\n",
       "\n",
       "[950 rows x 4 columns]"
      ]
     },
     "execution_count": 21,
     "metadata": {},
     "output_type": "execute_result"
    }
   ],
   "source": [
    "porcentaje = 0.5  \n",
    "data_df_nuevo_f = data_df_nuevo_f.sample(frac=porcentaje)\n",
    "data_df_nuevo_f"
   ]
  },
  {
   "cell_type": "code",
   "execution_count": 22,
   "metadata": {},
   "outputs": [
    {
     "name": "stdout",
     "output_type": "stream",
     "text": [
      "DataFrame guardado como archivo CSV en: C:\\Users\\rossa\\Desktop\\ProyectoIndividualML\\ProyectoIndividualML\\df_funcion5.csv\n"
     ]
    }
   ],
   "source": [
    "# Ruta donde se guarda el archivo CSV\n",
    "ruta_csv = r\"C:\\Users\\rossa\\Desktop\\ProyectoIndividualML\\ProyectoIndividualML\\df_funcion5.csv\"  \n",
    "\n",
    "# Guarda el DataFrame en un archivo CSV\n",
    "data_df_nuevo_f.to_csv(ruta_csv, index=False)  # El argumento 'index=False' evita que se incluya el índice en el archivo CSV\n",
    "\n",
    "print(\"DataFrame guardado como archivo CSV en:\", ruta_csv)"
   ]
  }
 ],
 "metadata": {
  "kernelspec": {
   "display_name": "Python 3",
   "language": "python",
   "name": "python3"
  },
  "language_info": {
   "codemirror_mode": {
    "name": "ipython",
    "version": 3
   },
   "file_extension": ".py",
   "mimetype": "text/x-python",
   "name": "python",
   "nbconvert_exporter": "python",
   "pygments_lexer": "ipython3",
   "version": "3.10.6"
  },
  "orig_nbformat": 4
 },
 "nbformat": 4,
 "nbformat_minor": 2
}
